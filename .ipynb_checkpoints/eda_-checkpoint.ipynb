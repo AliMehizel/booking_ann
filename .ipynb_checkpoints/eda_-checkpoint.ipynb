{
 "cells": [
  {
   "cell_type": "code",
   "execution_count": 1,
   "id": "c092e14c-9b3d-4ace-b4bc-514145d00747",
   "metadata": {},
   "outputs": [],
   "source": [
    "import numpy as np\n",
    "import pandas as pd   \n",
    "import seaborn as sns   \n",
    "import matplotlib.pyplot as plt \n",
    "from eda import *\n",
    "import warnings\n",
    "\n",
    "warnings.filterwarnings(\"ignore\")\n"
   ]
  },
  {
   "cell_type": "code",
   "execution_count": 2,
   "id": "8b84b8b6",
   "metadata": {},
   "outputs": [
    {
     "data": {
      "text/html": [
       "<div>\n",
       "<style scoped>\n",
       "    .dataframe tbody tr th:only-of-type {\n",
       "        vertical-align: middle;\n",
       "    }\n",
       "\n",
       "    .dataframe tbody tr th {\n",
       "        vertical-align: top;\n",
       "    }\n",
       "\n",
       "    .dataframe thead th {\n",
       "        text-align: right;\n",
       "    }\n",
       "</style>\n",
       "<table border=\"1\" class=\"dataframe\">\n",
       "  <thead>\n",
       "    <tr style=\"text-align: right;\">\n",
       "      <th></th>\n",
       "      <th>hotel</th>\n",
       "      <th>is_canceled</th>\n",
       "      <th>lead_time</th>\n",
       "      <th>arrival_date_year</th>\n",
       "      <th>arrival_date_month</th>\n",
       "      <th>arrival_date_week_number</th>\n",
       "      <th>arrival_date_day_of_month</th>\n",
       "      <th>stays_in_weekend_nights</th>\n",
       "      <th>stays_in_week_nights</th>\n",
       "      <th>adults</th>\n",
       "      <th>...</th>\n",
       "      <th>deposit_type</th>\n",
       "      <th>agent</th>\n",
       "      <th>company</th>\n",
       "      <th>days_in_waiting_list</th>\n",
       "      <th>customer_type</th>\n",
       "      <th>adr</th>\n",
       "      <th>required_car_parking_spaces</th>\n",
       "      <th>total_of_special_requests</th>\n",
       "      <th>reservation_status</th>\n",
       "      <th>reservation_status_date</th>\n",
       "    </tr>\n",
       "  </thead>\n",
       "  <tbody>\n",
       "    <tr>\n",
       "      <th>119385</th>\n",
       "      <td>City Hotel</td>\n",
       "      <td>0</td>\n",
       "      <td>23</td>\n",
       "      <td>2017</td>\n",
       "      <td>August</td>\n",
       "      <td>35</td>\n",
       "      <td>30</td>\n",
       "      <td>2</td>\n",
       "      <td>5</td>\n",
       "      <td>2</td>\n",
       "      <td>...</td>\n",
       "      <td>No Deposit</td>\n",
       "      <td>394.0</td>\n",
       "      <td>NaN</td>\n",
       "      <td>0</td>\n",
       "      <td>Transient</td>\n",
       "      <td>96.14</td>\n",
       "      <td>0</td>\n",
       "      <td>0</td>\n",
       "      <td>Check-Out</td>\n",
       "      <td>2017-09-06</td>\n",
       "    </tr>\n",
       "    <tr>\n",
       "      <th>119386</th>\n",
       "      <td>City Hotel</td>\n",
       "      <td>0</td>\n",
       "      <td>102</td>\n",
       "      <td>2017</td>\n",
       "      <td>August</td>\n",
       "      <td>35</td>\n",
       "      <td>31</td>\n",
       "      <td>2</td>\n",
       "      <td>5</td>\n",
       "      <td>3</td>\n",
       "      <td>...</td>\n",
       "      <td>No Deposit</td>\n",
       "      <td>9.0</td>\n",
       "      <td>NaN</td>\n",
       "      <td>0</td>\n",
       "      <td>Transient</td>\n",
       "      <td>225.43</td>\n",
       "      <td>0</td>\n",
       "      <td>2</td>\n",
       "      <td>Check-Out</td>\n",
       "      <td>2017-09-07</td>\n",
       "    </tr>\n",
       "    <tr>\n",
       "      <th>119387</th>\n",
       "      <td>City Hotel</td>\n",
       "      <td>0</td>\n",
       "      <td>34</td>\n",
       "      <td>2017</td>\n",
       "      <td>August</td>\n",
       "      <td>35</td>\n",
       "      <td>31</td>\n",
       "      <td>2</td>\n",
       "      <td>5</td>\n",
       "      <td>2</td>\n",
       "      <td>...</td>\n",
       "      <td>No Deposit</td>\n",
       "      <td>9.0</td>\n",
       "      <td>NaN</td>\n",
       "      <td>0</td>\n",
       "      <td>Transient</td>\n",
       "      <td>157.71</td>\n",
       "      <td>0</td>\n",
       "      <td>4</td>\n",
       "      <td>Check-Out</td>\n",
       "      <td>2017-09-07</td>\n",
       "    </tr>\n",
       "    <tr>\n",
       "      <th>119388</th>\n",
       "      <td>City Hotel</td>\n",
       "      <td>0</td>\n",
       "      <td>109</td>\n",
       "      <td>2017</td>\n",
       "      <td>August</td>\n",
       "      <td>35</td>\n",
       "      <td>31</td>\n",
       "      <td>2</td>\n",
       "      <td>5</td>\n",
       "      <td>2</td>\n",
       "      <td>...</td>\n",
       "      <td>No Deposit</td>\n",
       "      <td>89.0</td>\n",
       "      <td>NaN</td>\n",
       "      <td>0</td>\n",
       "      <td>Transient</td>\n",
       "      <td>104.40</td>\n",
       "      <td>0</td>\n",
       "      <td>0</td>\n",
       "      <td>Check-Out</td>\n",
       "      <td>2017-09-07</td>\n",
       "    </tr>\n",
       "    <tr>\n",
       "      <th>119389</th>\n",
       "      <td>City Hotel</td>\n",
       "      <td>0</td>\n",
       "      <td>205</td>\n",
       "      <td>2017</td>\n",
       "      <td>August</td>\n",
       "      <td>35</td>\n",
       "      <td>29</td>\n",
       "      <td>2</td>\n",
       "      <td>7</td>\n",
       "      <td>2</td>\n",
       "      <td>...</td>\n",
       "      <td>No Deposit</td>\n",
       "      <td>9.0</td>\n",
       "      <td>NaN</td>\n",
       "      <td>0</td>\n",
       "      <td>Transient</td>\n",
       "      <td>151.20</td>\n",
       "      <td>0</td>\n",
       "      <td>2</td>\n",
       "      <td>Check-Out</td>\n",
       "      <td>2017-09-07</td>\n",
       "    </tr>\n",
       "  </tbody>\n",
       "</table>\n",
       "<p>5 rows × 32 columns</p>\n",
       "</div>"
      ],
      "text/plain": [
       "             hotel  is_canceled  lead_time  arrival_date_year  \\\n",
       "119385  City Hotel            0         23               2017   \n",
       "119386  City Hotel            0        102               2017   \n",
       "119387  City Hotel            0         34               2017   \n",
       "119388  City Hotel            0        109               2017   \n",
       "119389  City Hotel            0        205               2017   \n",
       "\n",
       "       arrival_date_month  arrival_date_week_number  \\\n",
       "119385             August                        35   \n",
       "119386             August                        35   \n",
       "119387             August                        35   \n",
       "119388             August                        35   \n",
       "119389             August                        35   \n",
       "\n",
       "        arrival_date_day_of_month  stays_in_weekend_nights  \\\n",
       "119385                         30                        2   \n",
       "119386                         31                        2   \n",
       "119387                         31                        2   \n",
       "119388                         31                        2   \n",
       "119389                         29                        2   \n",
       "\n",
       "        stays_in_week_nights  adults  ...  deposit_type  agent company  \\\n",
       "119385                     5       2  ...    No Deposit  394.0     NaN   \n",
       "119386                     5       3  ...    No Deposit    9.0     NaN   \n",
       "119387                     5       2  ...    No Deposit    9.0     NaN   \n",
       "119388                     5       2  ...    No Deposit   89.0     NaN   \n",
       "119389                     7       2  ...    No Deposit    9.0     NaN   \n",
       "\n",
       "       days_in_waiting_list customer_type     adr  \\\n",
       "119385                    0     Transient   96.14   \n",
       "119386                    0     Transient  225.43   \n",
       "119387                    0     Transient  157.71   \n",
       "119388                    0     Transient  104.40   \n",
       "119389                    0     Transient  151.20   \n",
       "\n",
       "        required_car_parking_spaces  total_of_special_requests  \\\n",
       "119385                            0                          0   \n",
       "119386                            0                          2   \n",
       "119387                            0                          4   \n",
       "119388                            0                          0   \n",
       "119389                            0                          2   \n",
       "\n",
       "        reservation_status reservation_status_date  \n",
       "119385           Check-Out              2017-09-06  \n",
       "119386           Check-Out              2017-09-07  \n",
       "119387           Check-Out              2017-09-07  \n",
       "119388           Check-Out              2017-09-07  \n",
       "119389           Check-Out              2017-09-07  \n",
       "\n",
       "[5 rows x 32 columns]"
      ]
     },
     "execution_count": 2,
     "metadata": {},
     "output_type": "execute_result"
    }
   ],
   "source": [
    "data = pd.read_csv('data/hotel_bookings.csv')\n",
    "data.tail()"
   ]
  },
  {
   "cell_type": "markdown",
   "id": "2a712911",
   "metadata": {},
   "source": [
    "# data preprocessing"
   ]
  },
  {
   "cell_type": "code",
   "execution_count": 3,
   "id": "ed3826d0",
   "metadata": {},
   "outputs": [
    {
     "data": {
      "text/plain": [
       "hotel                                  0\n",
       "is_canceled                            0\n",
       "lead_time                              0\n",
       "arrival_date_year                      0\n",
       "arrival_date_month                     0\n",
       "arrival_date_week_number               0\n",
       "arrival_date_day_of_month              0\n",
       "stays_in_weekend_nights                0\n",
       "stays_in_week_nights                   0\n",
       "adults                                 0\n",
       "children                               4\n",
       "babies                                 0\n",
       "meal                                   0\n",
       "country                              488\n",
       "market_segment                         0\n",
       "distribution_channel                   0\n",
       "is_repeated_guest                      0\n",
       "previous_cancellations                 0\n",
       "previous_bookings_not_canceled         0\n",
       "reserved_room_type                     0\n",
       "assigned_room_type                     0\n",
       "booking_changes                        0\n",
       "deposit_type                           0\n",
       "agent                              16340\n",
       "company                           112593\n",
       "days_in_waiting_list                   0\n",
       "customer_type                          0\n",
       "adr                                    0\n",
       "required_car_parking_spaces            0\n",
       "total_of_special_requests              0\n",
       "reservation_status                     0\n",
       "reservation_status_date                0\n",
       "dtype: int64"
      ]
     },
     "execution_count": 3,
     "metadata": {},
     "output_type": "execute_result"
    }
   ],
   "source": [
    "data.isnull().sum()"
   ]
  },
  {
   "cell_type": "code",
   "execution_count": 4,
   "id": "d2ef7f28",
   "metadata": {},
   "outputs": [
    {
     "name": "stdout",
     "output_type": "stream",
     "text": [
      "<class 'pandas.core.frame.DataFrame'>\n",
      "RangeIndex: 119390 entries, 0 to 119389\n",
      "Data columns (total 32 columns):\n",
      " #   Column                          Non-Null Count   Dtype  \n",
      "---  ------                          --------------   -----  \n",
      " 0   hotel                           119390 non-null  object \n",
      " 1   is_canceled                     119390 non-null  int64  \n",
      " 2   lead_time                       119390 non-null  int64  \n",
      " 3   arrival_date_year               119390 non-null  int64  \n",
      " 4   arrival_date_month              119390 non-null  object \n",
      " 5   arrival_date_week_number        119390 non-null  int64  \n",
      " 6   arrival_date_day_of_month       119390 non-null  int64  \n",
      " 7   stays_in_weekend_nights         119390 non-null  int64  \n",
      " 8   stays_in_week_nights            119390 non-null  int64  \n",
      " 9   adults                          119390 non-null  int64  \n",
      " 10  children                        119386 non-null  float64\n",
      " 11  babies                          119390 non-null  int64  \n",
      " 12  meal                            119390 non-null  object \n",
      " 13  country                         118902 non-null  object \n",
      " 14  market_segment                  119390 non-null  object \n",
      " 15  distribution_channel            119390 non-null  object \n",
      " 16  is_repeated_guest               119390 non-null  int64  \n",
      " 17  previous_cancellations          119390 non-null  int64  \n",
      " 18  previous_bookings_not_canceled  119390 non-null  int64  \n",
      " 19  reserved_room_type              119390 non-null  object \n",
      " 20  assigned_room_type              119390 non-null  object \n",
      " 21  booking_changes                 119390 non-null  int64  \n",
      " 22  deposit_type                    119390 non-null  object \n",
      " 23  agent                           103050 non-null  float64\n",
      " 24  company                         6797 non-null    float64\n",
      " 25  days_in_waiting_list            119390 non-null  int64  \n",
      " 26  customer_type                   119390 non-null  object \n",
      " 27  adr                             119390 non-null  float64\n",
      " 28  required_car_parking_spaces     119390 non-null  int64  \n",
      " 29  total_of_special_requests       119390 non-null  int64  \n",
      " 30  reservation_status              119390 non-null  object \n",
      " 31  reservation_status_date         119390 non-null  object \n",
      "dtypes: float64(4), int64(16), object(12)\n",
      "memory usage: 29.1+ MB\n"
     ]
    }
   ],
   "source": [
    "data.info()"
   ]
  },
  {
   "cell_type": "code",
   "execution_count": 5,
   "id": "dfb951d8",
   "metadata": {},
   "outputs": [
    {
     "data": {
      "text/plain": [
       "is_canceled\n",
       "0    0.629584\n",
       "1    0.370416\n",
       "Name: count, dtype: float64"
      ]
     },
     "execution_count": 5,
     "metadata": {},
     "output_type": "execute_result"
    }
   ],
   "source": [
    "data['is_canceled'].value_counts() / data['is_canceled'].value_counts().sum()"
   ]
  },
  {
   "cell_type": "markdown",
   "id": "49763310",
   "metadata": {},
   "source": [
    "- The issue is we have imbalanced data, then we need to do an oversampling using (knn simulation).\n",
    "- the second issue is we have some featutes intuitively intuitively they have no sense, but we can replace them with one features,\n",
    "- that provide more infos in analysis (we will replace all datetime variable with season)"
   ]
  },
  {
   "cell_type": "code",
   "execution_count": 6,
   "id": "2b3724e9",
   "metadata": {},
   "outputs": [
    {
     "data": {
      "text/plain": [
       "0         Summer\n",
       "1         Summer\n",
       "2         Summer\n",
       "3         Summer\n",
       "4         Summer\n",
       "           ...  \n",
       "119385    Summer\n",
       "119386    Summer\n",
       "119387    Summer\n",
       "119388    Summer\n",
       "119389    Summer\n",
       "Name: season, Length: 119390, dtype: object"
      ]
     },
     "execution_count": 6,
     "metadata": {},
     "output_type": "execute_result"
    }
   ],
   "source": [
    "\n",
    "month_to_season = {\n",
    "    'December': 'Winter', 'January': 'Winter', 'February': 'Winter',\n",
    "    'March': 'Spring', 'April': 'Spring', 'May': 'Spring',\n",
    "    'June': 'Summer', 'July': 'Summer', 'August': 'Summer',\n",
    "    'September': 'Fall', 'October': 'Fall', 'November': 'Fall'\n",
    "}\n",
    "# Replace month names with seasons\n",
    "data['season'] = data['arrival_date_month'].map(month_to_season)\n",
    "data['season']"
   ]
  },
  {
   "cell_type": "code",
   "execution_count": 7,
   "id": "b10e0280",
   "metadata": {},
   "outputs": [
    {
     "data": {
      "text/plain": [
       "agent\n",
       "9.0      31961\n",
       "240.0    13922\n",
       "1.0       7191\n",
       "14.0      3640\n",
       "7.0       3539\n",
       "         ...  \n",
       "289.0        1\n",
       "432.0        1\n",
       "265.0        1\n",
       "93.0         1\n",
       "304.0        1\n",
       "Name: count, Length: 333, dtype: int64"
      ]
     },
     "execution_count": 7,
     "metadata": {},
     "output_type": "execute_result"
    }
   ],
   "source": [
    "data['agent'] = data['agent'].astype(object)\n",
    "\n",
    "data['agent'].value_counts()"
   ]
  },
  {
   "cell_type": "code",
   "execution_count": 8,
   "id": "cc020fcf",
   "metadata": {},
   "outputs": [
    {
     "data": {
      "text/plain": [
       "assigned_room_type\n",
       "A    74053\n",
       "D    25322\n",
       "E     7806\n",
       "F     3751\n",
       "G     2553\n",
       "C     2375\n",
       "B     2163\n",
       "H      712\n",
       "I      363\n",
       "K      279\n",
       "P       12\n",
       "L        1\n",
       "Name: count, dtype: int64"
      ]
     },
     "execution_count": 8,
     "metadata": {},
     "output_type": "execute_result"
    }
   ],
   "source": [
    "data['assigned_room_type'].value_counts()"
   ]
  },
  {
   "cell_type": "code",
   "execution_count": 9,
   "id": "ee27e66d",
   "metadata": {},
   "outputs": [
    {
     "data": {
      "text/plain": [
       "reserved_room_type\n",
       "A    85994\n",
       "D    19201\n",
       "E     6535\n",
       "F     2897\n",
       "G     2094\n",
       "B     1118\n",
       "C      932\n",
       "H      601\n",
       "P       12\n",
       "L        6\n",
       "Name: count, dtype: int64"
      ]
     },
     "execution_count": 9,
     "metadata": {},
     "output_type": "execute_result"
    }
   ],
   "source": [
    "data['reserved_room_type'].value_counts()"
   ]
  },
  {
   "cell_type": "code",
   "execution_count": 10,
   "id": "29a6d6b1",
   "metadata": {},
   "outputs": [
    {
     "data": {
      "text/plain": [
       "Index(['hotel', 'is_canceled', 'lead_time', 'arrival_date_year',\n",
       "       'arrival_date_month', 'arrival_date_week_number',\n",
       "       'arrival_date_day_of_month', 'stays_in_weekend_nights',\n",
       "       'stays_in_week_nights', 'adults', 'children', 'babies', 'meal',\n",
       "       'country', 'market_segment', 'distribution_channel',\n",
       "       'is_repeated_guest', 'previous_cancellations',\n",
       "       'previous_bookings_not_canceled', 'reserved_room_type',\n",
       "       'assigned_room_type', 'booking_changes', 'deposit_type', 'agent',\n",
       "       'company', 'days_in_waiting_list', 'customer_type', 'adr',\n",
       "       'required_car_parking_spaces', 'total_of_special_requests',\n",
       "       'reservation_status', 'reservation_status_date', 'season'],\n",
       "      dtype='object')"
      ]
     },
     "execution_count": 10,
     "metadata": {},
     "output_type": "execute_result"
    }
   ],
   "source": [
    "data.columns"
   ]
  },
  {
   "cell_type": "code",
   "execution_count": 11,
   "id": "72af5573",
   "metadata": {},
   "outputs": [
    {
     "data": {
      "text/html": [
       "<div>\n",
       "<style scoped>\n",
       "    .dataframe tbody tr th:only-of-type {\n",
       "        vertical-align: middle;\n",
       "    }\n",
       "\n",
       "    .dataframe tbody tr th {\n",
       "        vertical-align: top;\n",
       "    }\n",
       "\n",
       "    .dataframe thead th {\n",
       "        text-align: right;\n",
       "    }\n",
       "</style>\n",
       "<table border=\"1\" class=\"dataframe\">\n",
       "  <thead>\n",
       "    <tr style=\"text-align: right;\">\n",
       "      <th></th>\n",
       "      <th>distribution_channel</th>\n",
       "      <th>market_segment</th>\n",
       "    </tr>\n",
       "  </thead>\n",
       "  <tbody>\n",
       "    <tr>\n",
       "      <th>0</th>\n",
       "      <td>Direct</td>\n",
       "      <td>Direct</td>\n",
       "    </tr>\n",
       "    <tr>\n",
       "      <th>1</th>\n",
       "      <td>Direct</td>\n",
       "      <td>Direct</td>\n",
       "    </tr>\n",
       "    <tr>\n",
       "      <th>2</th>\n",
       "      <td>Direct</td>\n",
       "      <td>Direct</td>\n",
       "    </tr>\n",
       "    <tr>\n",
       "      <th>3</th>\n",
       "      <td>Corporate</td>\n",
       "      <td>Corporate</td>\n",
       "    </tr>\n",
       "    <tr>\n",
       "      <th>4</th>\n",
       "      <td>TA/TO</td>\n",
       "      <td>Online TA</td>\n",
       "    </tr>\n",
       "    <tr>\n",
       "      <th>...</th>\n",
       "      <td>...</td>\n",
       "      <td>...</td>\n",
       "    </tr>\n",
       "    <tr>\n",
       "      <th>119385</th>\n",
       "      <td>TA/TO</td>\n",
       "      <td>Offline TA/TO</td>\n",
       "    </tr>\n",
       "    <tr>\n",
       "      <th>119386</th>\n",
       "      <td>TA/TO</td>\n",
       "      <td>Online TA</td>\n",
       "    </tr>\n",
       "    <tr>\n",
       "      <th>119387</th>\n",
       "      <td>TA/TO</td>\n",
       "      <td>Online TA</td>\n",
       "    </tr>\n",
       "    <tr>\n",
       "      <th>119388</th>\n",
       "      <td>TA/TO</td>\n",
       "      <td>Online TA</td>\n",
       "    </tr>\n",
       "    <tr>\n",
       "      <th>119389</th>\n",
       "      <td>TA/TO</td>\n",
       "      <td>Online TA</td>\n",
       "    </tr>\n",
       "  </tbody>\n",
       "</table>\n",
       "<p>119390 rows × 2 columns</p>\n",
       "</div>"
      ],
      "text/plain": [
       "       distribution_channel market_segment\n",
       "0                    Direct         Direct\n",
       "1                    Direct         Direct\n",
       "2                    Direct         Direct\n",
       "3                 Corporate      Corporate\n",
       "4                     TA/TO      Online TA\n",
       "...                     ...            ...\n",
       "119385                TA/TO  Offline TA/TO\n",
       "119386                TA/TO      Online TA\n",
       "119387                TA/TO      Online TA\n",
       "119388                TA/TO      Online TA\n",
       "119389                TA/TO      Online TA\n",
       "\n",
       "[119390 rows x 2 columns]"
      ]
     },
     "execution_count": 11,
     "metadata": {},
     "output_type": "execute_result"
    }
   ],
   "source": [
    "\n",
    "data[['distribution_channel','market_segment']]\n",
    "##'distribution_channel':help hotels reach different types of customers and maximize \n",
    "## occupancy rates by making rooms available through multiple platforms.\n",
    "##'market_segment': hotels can tailor their marketing strategies, pricing, services, \n",
    "## and amenities to better meet the needs and expectations of specific groups of guests"
   ]
  },
  {
   "cell_type": "code",
   "execution_count": 12,
   "id": "ded99537-3cb9-4234-a8e8-37b6a1c1e2ed",
   "metadata": {},
   "outputs": [],
   "source": [
    "##reservation_status_date && •\treservation_status: this two features describe resevation process from \n",
    "##booking untill it will be confimed or canceled (by client)\n",
    "##If a reservation is confirmed, it means that the booking is finalized and the room is reserved for the guest.\n",
    "##If it's canceled, it indicates that the reservation has been canceled by the guest or the hotel. (also for date)"
   ]
  },
  {
   "cell_type": "code",
   "execution_count": 13,
   "id": "36d39dad-f1f9-4ff2-b566-e684c14876a2",
   "metadata": {},
   "outputs": [
    {
     "data": {
      "text/plain": [
       "reservation_status\n",
       "Check-Out    75166\n",
       "Canceled     43017\n",
       "No-Show       1207\n",
       "Name: count, dtype: int64"
      ]
     },
     "execution_count": 13,
     "metadata": {},
     "output_type": "execute_result"
    }
   ],
   "source": [
    "data['reservation_status'].value_counts()"
   ]
  },
  {
   "cell_type": "code",
   "execution_count": 14,
   "id": "166b3615-3911-416d-9c3a-aea7b049db47",
   "metadata": {},
   "outputs": [
    {
     "data": {
      "text/plain": [
       "<Axes: xlabel='arrival_date_year', ylabel='Count'>"
      ]
     },
     "execution_count": 14,
     "metadata": {},
     "output_type": "execute_result"
    },
    {
     "data": {
      "image/png": "[encoded data removed]",
      "text/plain": [
       "<Figure size 640x480 with 1 Axes>"
      ]
     },
     "metadata": {},
     "output_type": "display_data"
    }
   ],
   "source": [
    "handle_categorical_data(data, 'arrival_date_year')"
   ]
  },
  {
   "cell_type": "code",
   "execution_count": 15,
   "id": "1001ccd0",
   "metadata": {},
   "outputs": [],
   "source": [
    "data = data.drop(columns = ['arrival_date_year','arrival_date_month','arrival_date_week_number',\n",
    "\n",
    "                            'arrival_date_day_of_month','company','reservation_status_date','agent'])"
   ]
  },
  {
   "cell_type": "code",
   "execution_count": 16,
   "id": "75c3860e-2a07-4630-9288-26e09f40bca5",
   "metadata": {},
   "outputs": [
    {
     "data": {
      "text/plain": [
       "Index(['hotel', 'is_canceled', 'lead_time', 'stays_in_weekend_nights',\n",
       "       'stays_in_week_nights', 'adults', 'children', 'babies', 'meal',\n",
       "       'country', 'market_segment', 'distribution_channel',\n",
       "       'is_repeated_guest', 'previous_cancellations',\n",
       "       'previous_bookings_not_canceled', 'reserved_room_type',\n",
       "       'assigned_room_type', 'booking_changes', 'deposit_type',\n",
       "       'days_in_waiting_list', 'customer_type', 'adr',\n",
       "       'required_car_parking_spaces', 'total_of_special_requests',\n",
       "       'reservation_status', 'season'],\n",
       "      dtype='object')"
      ]
     },
     "execution_count": 16,
     "metadata": {},
     "output_type": "execute_result"
    }
   ],
   "source": [
    "data.columns"
   ]
  },
  {
   "cell_type": "code",
   "execution_count": 17,
   "id": "f3cd1de3-c009-412a-9bf2-7912ff509383",
   "metadata": {},
   "outputs": [],
   "source": [
    "\n",
    "data['stays_total'] = data['stays_in_weekend_nights']+ data['stays_in_week_nights']"
   ]
  },
  {
   "cell_type": "code",
   "execution_count": 18,
   "id": "0a085289-1201-4098-934b-1f9c104afd1c",
   "metadata": {},
   "outputs": [],
   "source": [
    "data = data.drop(columns=['stays_in_weekend_nights','stays_in_week_nights'])"
   ]
  },
  {
   "cell_type": "code",
   "execution_count": 19,
   "id": "9c5e83e4-17e2-4e32-a385-41ba339ed1eb",
   "metadata": {},
   "outputs": [
    {
     "data": {
      "text/plain": [
       "(119390, 25)"
      ]
     },
     "execution_count": 19,
     "metadata": {},
     "output_type": "execute_result"
    }
   ],
   "source": [
    "data.shape"
   ]
  },
  {
   "cell_type": "code",
   "execution_count": 20,
   "id": "282af6d5-7cfc-4192-b30e-891ab763bf77",
   "metadata": {},
   "outputs": [
    {
     "data": {
      "text/plain": [
       "Index(['hotel', 'is_canceled', 'lead_time', 'adults', 'children', 'babies',\n",
       "       'meal', 'country', 'market_segment', 'distribution_channel',\n",
       "       'is_repeated_guest', 'previous_cancellations',\n",
       "       'previous_bookings_not_canceled', 'reserved_room_type',\n",
       "       'assigned_room_type', 'booking_changes', 'deposit_type',\n",
       "       'days_in_waiting_list', 'customer_type', 'adr',\n",
       "       'required_car_parking_spaces', 'total_of_special_requests',\n",
       "       'reservation_status', 'season', 'stays_total'],\n",
       "      dtype='object')"
      ]
     },
     "execution_count": 20,
     "metadata": {},
     "output_type": "execute_result"
    }
   ],
   "source": [
    "\n",
    "data.columns"
   ]
  },
  {
   "cell_type": "markdown",
   "id": "352afb24-39d5-416d-bf53-3f9786b22f86",
   "metadata": {},
   "source": [
    "### Exploratory data analysis"
   ]
  },
  {
   "cell_type": "markdown",
   "id": "70f74f10-669c-42ac-8458-a83c6dae276a",
   "metadata": {},
   "source": [
    "#### split data into categorical data and numeric data"
   ]
  },
  {
   "cell_type": "code",
   "execution_count": 21,
   "id": "06031396-7260-4918-9684-99e2fead84db",
   "metadata": {},
   "outputs": [
    {
     "name": "stdout",
     "output_type": "stream",
     "text": [
      "<class 'pandas.core.frame.DataFrame'>\n",
      "RangeIndex: 119390 entries, 0 to 119389\n",
      "Data columns (total 25 columns):\n",
      " #   Column                          Non-Null Count   Dtype  \n",
      "---  ------                          --------------   -----  \n",
      " 0   hotel                           119390 non-null  object \n",
      " 1   is_canceled                     119390 non-null  int64  \n",
      " 2   lead_time                       119390 non-null  int64  \n",
      " 3   adults                          119390 non-null  int64  \n",
      " 4   children                        119386 non-null  float64\n",
      " 5   babies                          119390 non-null  int64  \n",
      " 6   meal                            119390 non-null  object \n",
      " 7   country                         118902 non-null  object \n",
      " 8   market_segment                  119390 non-null  object \n",
      " 9   distribution_channel            119390 non-null  object \n",
      " 10  is_repeated_guest               119390 non-null  int64  \n",
      " 11  previous_cancellations          119390 non-null  int64  \n",
      " 12  previous_bookings_not_canceled  119390 non-null  int64  \n",
      " 13  reserved_room_type              119390 non-null  object \n",
      " 14  assigned_room_type              119390 non-null  object \n",
      " 15  booking_changes                 119390 non-null  int64  \n",
      " 16  deposit_type                    119390 non-null  object \n",
      " 17  days_in_waiting_list            119390 non-null  int64  \n",
      " 18  customer_type                   119390 non-null  object \n",
      " 19  adr                             119390 non-null  float64\n",
      " 20  required_car_parking_spaces     119390 non-null  int64  \n",
      " 21  total_of_special_requests       119390 non-null  int64  \n",
      " 22  reservation_status              119390 non-null  object \n",
      " 23  season                          119390 non-null  object \n",
      " 24  stays_total                     119390 non-null  int64  \n",
      "dtypes: float64(2), int64(12), object(11)\n",
      "memory usage: 22.8+ MB\n"
     ]
    }
   ],
   "source": [
    "data.info()"
   ]
  },
  {
   "cell_type": "code",
   "execution_count": 22,
   "id": "80d027cc-14dd-4910-909b-c3fae89258eb",
   "metadata": {},
   "outputs": [
    {
     "name": "stdout",
     "output_type": "stream",
     "text": [
      "<class 'pandas.core.frame.DataFrame'>\n",
      "RangeIndex: 119390 entries, 0 to 119389\n",
      "Data columns (total 25 columns):\n",
      " #   Column                          Non-Null Count   Dtype  \n",
      "---  ------                          --------------   -----  \n",
      " 0   hotel                           119390 non-null  object \n",
      " 1   is_canceled                     119390 non-null  int64  \n",
      " 2   lead_time                       119390 non-null  int64  \n",
      " 3   adults                          119390 non-null  int64  \n",
      " 4   children                        119386 non-null  float64\n",
      " 5   babies                          119390 non-null  int64  \n",
      " 6   meal                            119390 non-null  object \n",
      " 7   country                         118902 non-null  object \n",
      " 8   market_segment                  119390 non-null  object \n",
      " 9   distribution_channel            119390 non-null  object \n",
      " 10  is_repeated_guest               119390 non-null  int64  \n",
      " 11  previous_cancellations          119390 non-null  object \n",
      " 12  previous_bookings_not_canceled  119390 non-null  object \n",
      " 13  reserved_room_type              119390 non-null  object \n",
      " 14  assigned_room_type              119390 non-null  object \n",
      " 15  booking_changes                 119390 non-null  object \n",
      " 16  deposit_type                    119390 non-null  object \n",
      " 17  days_in_waiting_list            119390 non-null  int64  \n",
      " 18  customer_type                   119390 non-null  object \n",
      " 19  adr                             119390 non-null  object \n",
      " 20  required_car_parking_spaces     119390 non-null  object \n",
      " 21  total_of_special_requests       119390 non-null  object \n",
      " 22  reservation_status              119390 non-null  object \n",
      " 23  season                          119390 non-null  object \n",
      " 24  stays_total                     119390 non-null  int64  \n",
      "dtypes: float64(1), int64(7), object(17)\n",
      "memory usage: 22.8+ MB\n"
     ]
    }
   ],
   "source": [
    "##to be converted to object === ['total_of_special_requests', 'required_car_parking_spaces', \n",
    "#'adr', 'days_in_waiting_list', 'booking_changes', 'previous_bookings_not_canceled', 'previous_cancellations']\n",
    "to_categorical = ['total_of_special_requests', 'required_car_parking_spaces', 'adr', \n",
    "                  'booking_changes', 'previous_bookings_not_canceled', 'previous_cancellations']\n",
    "data[to_categorical] = data[to_categorical].astype(object)\n",
    "data.info()"
   ]
  },
  {
   "cell_type": "code",
   "execution_count": 23,
   "id": "4b5b574d-9eed-4d91-ac9e-a0037bf84ed7",
   "metadata": {},
   "outputs": [
    {
     "data": {
      "text/plain": [
       "market_segment\n",
       "Online TA        56477\n",
       "Offline TA/TO    24219\n",
       "Groups           19811\n",
       "Direct           12606\n",
       "Corporate         5295\n",
       "Complementary      743\n",
       "Aviation           237\n",
       "Undefined            2\n",
       "Name: count, dtype: int64"
      ]
     },
     "execution_count": 23,
     "metadata": {},
     "output_type": "execute_result"
    }
   ],
   "source": [
    "##market segement === Behavioral Segmentation in this case\n",
    "\n",
    "data['market_segment'].value_counts()"
   ]
  },
  {
   "cell_type": "code",
   "execution_count": 24,
   "id": "fa857af4-7b77-4b1d-9bdb-d9cf5c946fa9",
   "metadata": {},
   "outputs": [
    {
     "data": {
      "text/plain": [
       "distribution_channel\n",
       "TA/TO        97870\n",
       "Direct       14645\n",
       "Corporate     6677\n",
       "GDS            193\n",
       "Undefined        5\n",
       "Name: count, dtype: int64"
      ]
     },
     "execution_count": 24,
     "metadata": {},
     "output_type": "execute_result"
    }
   ],
   "source": [
    "data['distribution_channel'].value_counts()"
   ]
  },
  {
   "cell_type": "code",
   "execution_count": 25,
   "id": "218430d8-ecd0-4cce-9925-2878e46b2681",
   "metadata": {},
   "outputs": [],
   "source": [
    "#split cols into two categorical and numrical features \n",
    "cat_, num_ = split_dtypes(data, 'object')"
   ]
  },
  {
   "cell_type": "code",
   "execution_count": 26,
   "id": "79eda07c-aada-4b22-b4d0-785e25232a49",
   "metadata": {},
   "outputs": [
    {
     "name": "stdout",
     "output_type": "stream",
     "text": [
      "<class 'pandas.core.frame.DataFrame'>\n",
      "RangeIndex: 119390 entries, 0 to 119389\n",
      "Data columns (total 17 columns):\n",
      " #   Column                          Non-Null Count   Dtype \n",
      "---  ------                          --------------   ----- \n",
      " 0   hotel                           119390 non-null  object\n",
      " 1   meal                            119390 non-null  object\n",
      " 2   country                         118902 non-null  object\n",
      " 3   market_segment                  119390 non-null  object\n",
      " 4   distribution_channel            119390 non-null  object\n",
      " 5   previous_cancellations          119390 non-null  object\n",
      " 6   previous_bookings_not_canceled  119390 non-null  object\n",
      " 7   reserved_room_type              119390 non-null  object\n",
      " 8   assigned_room_type              119390 non-null  object\n",
      " 9   booking_changes                 119390 non-null  object\n",
      " 10  deposit_type                    119390 non-null  object\n",
      " 11  customer_type                   119390 non-null  object\n",
      " 12  adr                             119390 non-null  object\n",
      " 13  required_car_parking_spaces     119390 non-null  object\n",
      " 14  total_of_special_requests       119390 non-null  object\n",
      " 15  reservation_status              119390 non-null  object\n",
      " 16  season                          119390 non-null  object\n",
      "dtypes: object(17)\n",
      "memory usage: 15.5+ MB\n"
     ]
    }
   ],
   "source": [
    "cat_.info()"
   ]
  },
  {
   "cell_type": "code",
   "execution_count": 27,
   "id": "c871549a-2f01-4d58-ab63-f32254b1a07e",
   "metadata": {},
   "outputs": [],
   "source": [
    "cat_['is_canceled'] = num_[['is_canceled']]"
   ]
  },
  {
   "cell_type": "code",
   "execution_count": 28,
   "id": "f579bd80-4546-47ce-928e-46ec770fb9d5",
   "metadata": {},
   "outputs": [
    {
     "data": {
      "text/html": [
       "<div>\n",
       "<style scoped>\n",
       "    .dataframe tbody tr th:only-of-type {\n",
       "        vertical-align: middle;\n",
       "    }\n",
       "\n",
       "    .dataframe tbody tr th {\n",
       "        vertical-align: top;\n",
       "    }\n",
       "\n",
       "    .dataframe thead th {\n",
       "        text-align: right;\n",
       "    }\n",
       "</style>\n",
       "<table border=\"1\" class=\"dataframe\">\n",
       "  <thead>\n",
       "    <tr style=\"text-align: right;\">\n",
       "      <th></th>\n",
       "      <th>hotel</th>\n",
       "      <th>meal</th>\n",
       "      <th>country</th>\n",
       "      <th>market_segment</th>\n",
       "      <th>distribution_channel</th>\n",
       "      <th>previous_cancellations</th>\n",
       "      <th>previous_bookings_not_canceled</th>\n",
       "      <th>reserved_room_type</th>\n",
       "      <th>assigned_room_type</th>\n",
       "      <th>booking_changes</th>\n",
       "      <th>deposit_type</th>\n",
       "      <th>customer_type</th>\n",
       "      <th>adr</th>\n",
       "      <th>required_car_parking_spaces</th>\n",
       "      <th>total_of_special_requests</th>\n",
       "      <th>reservation_status</th>\n",
       "      <th>season</th>\n",
       "      <th>is_canceled</th>\n",
       "    </tr>\n",
       "  </thead>\n",
       "  <tbody>\n",
       "    <tr>\n",
       "      <th>0</th>\n",
       "      <td>Resort Hotel</td>\n",
       "      <td>BB</td>\n",
       "      <td>PRT</td>\n",
       "      <td>Direct</td>\n",
       "      <td>Direct</td>\n",
       "      <td>0</td>\n",
       "      <td>0</td>\n",
       "      <td>C</td>\n",
       "      <td>C</td>\n",
       "      <td>3</td>\n",
       "      <td>No Deposit</td>\n",
       "      <td>Transient</td>\n",
       "      <td>0.0</td>\n",
       "      <td>0</td>\n",
       "      <td>0</td>\n",
       "      <td>Check-Out</td>\n",
       "      <td>Summer</td>\n",
       "      <td>0</td>\n",
       "    </tr>\n",
       "    <tr>\n",
       "      <th>1</th>\n",
       "      <td>Resort Hotel</td>\n",
       "      <td>BB</td>\n",
       "      <td>PRT</td>\n",
       "      <td>Direct</td>\n",
       "      <td>Direct</td>\n",
       "      <td>0</td>\n",
       "      <td>0</td>\n",
       "      <td>C</td>\n",
       "      <td>C</td>\n",
       "      <td>4</td>\n",
       "      <td>No Deposit</td>\n",
       "      <td>Transient</td>\n",
       "      <td>0.0</td>\n",
       "      <td>0</td>\n",
       "      <td>0</td>\n",
       "      <td>Check-Out</td>\n",
       "      <td>Summer</td>\n",
       "      <td>0</td>\n",
       "    </tr>\n",
       "    <tr>\n",
       "      <th>2</th>\n",
       "      <td>Resort Hotel</td>\n",
       "      <td>BB</td>\n",
       "      <td>GBR</td>\n",
       "      <td>Direct</td>\n",
       "      <td>Direct</td>\n",
       "      <td>0</td>\n",
       "      <td>0</td>\n",
       "      <td>A</td>\n",
       "      <td>C</td>\n",
       "      <td>0</td>\n",
       "      <td>No Deposit</td>\n",
       "      <td>Transient</td>\n",
       "      <td>75.0</td>\n",
       "      <td>0</td>\n",
       "      <td>0</td>\n",
       "      <td>Check-Out</td>\n",
       "      <td>Summer</td>\n",
       "      <td>0</td>\n",
       "    </tr>\n",
       "    <tr>\n",
       "      <th>3</th>\n",
       "      <td>Resort Hotel</td>\n",
       "      <td>BB</td>\n",
       "      <td>GBR</td>\n",
       "      <td>Corporate</td>\n",
       "      <td>Corporate</td>\n",
       "      <td>0</td>\n",
       "      <td>0</td>\n",
       "      <td>A</td>\n",
       "      <td>A</td>\n",
       "      <td>0</td>\n",
       "      <td>No Deposit</td>\n",
       "      <td>Transient</td>\n",
       "      <td>75.0</td>\n",
       "      <td>0</td>\n",
       "      <td>0</td>\n",
       "      <td>Check-Out</td>\n",
       "      <td>Summer</td>\n",
       "      <td>0</td>\n",
       "    </tr>\n",
       "    <tr>\n",
       "      <th>4</th>\n",
       "      <td>Resort Hotel</td>\n",
       "      <td>BB</td>\n",
       "      <td>GBR</td>\n",
       "      <td>Online TA</td>\n",
       "      <td>TA/TO</td>\n",
       "      <td>0</td>\n",
       "      <td>0</td>\n",
       "      <td>A</td>\n",
       "      <td>A</td>\n",
       "      <td>0</td>\n",
       "      <td>No Deposit</td>\n",
       "      <td>Transient</td>\n",
       "      <td>98.0</td>\n",
       "      <td>0</td>\n",
       "      <td>1</td>\n",
       "      <td>Check-Out</td>\n",
       "      <td>Summer</td>\n",
       "      <td>0</td>\n",
       "    </tr>\n",
       "  </tbody>\n",
       "</table>\n",
       "</div>"
      ],
      "text/plain": [
       "          hotel meal country market_segment distribution_channel  \\\n",
       "0  Resort Hotel   BB     PRT         Direct               Direct   \n",
       "1  Resort Hotel   BB     PRT         Direct               Direct   \n",
       "2  Resort Hotel   BB     GBR         Direct               Direct   \n",
       "3  Resort Hotel   BB     GBR      Corporate            Corporate   \n",
       "4  Resort Hotel   BB     GBR      Online TA                TA/TO   \n",
       "\n",
       "  previous_cancellations previous_bookings_not_canceled reserved_room_type  \\\n",
       "0                      0                              0                  C   \n",
       "1                      0                              0                  C   \n",
       "2                      0                              0                  A   \n",
       "3                      0                              0                  A   \n",
       "4                      0                              0                  A   \n",
       "\n",
       "  assigned_room_type booking_changes deposit_type customer_type   adr  \\\n",
       "0                  C               3   No Deposit     Transient   0.0   \n",
       "1                  C               4   No Deposit     Transient   0.0   \n",
       "2                  C               0   No Deposit     Transient  75.0   \n",
       "3                  A               0   No Deposit     Transient  75.0   \n",
       "4                  A               0   No Deposit     Transient  98.0   \n",
       "\n",
       "  required_car_parking_spaces total_of_special_requests reservation_status  \\\n",
       "0                           0                         0          Check-Out   \n",
       "1                           0                         0          Check-Out   \n",
       "2                           0                         0          Check-Out   \n",
       "3                           0                         0          Check-Out   \n",
       "4                           0                         1          Check-Out   \n",
       "\n",
       "   season  is_canceled  \n",
       "0  Summer            0  \n",
       "1  Summer            0  \n",
       "2  Summer            0  \n",
       "3  Summer            0  \n",
       "4  Summer            0  "
      ]
     },
     "execution_count": 28,
     "metadata": {},
     "output_type": "execute_result"
    }
   ],
   "source": [
    "cat_.head()"
   ]
  },
  {
   "cell_type": "code",
   "execution_count": 29,
   "id": "27d3d3f6-3e0e-4128-b883-5990ecf76da9",
   "metadata": {},
   "outputs": [
    {
     "data": {
      "text/plain": [
       "(119390, 18)"
      ]
     },
     "execution_count": 29,
     "metadata": {},
     "output_type": "execute_result"
    }
   ],
   "source": [
    "cat_.shape"
   ]
  },
  {
   "cell_type": "markdown",
   "id": "68de71dc-b1fe-4f36-93cc-c7faaf1644c6",
   "metadata": {},
   "source": [
    "### 1. univariate analysis \n",
    "### 1.1  categorical data"
   ]
  },
  {
   "cell_type": "code",
   "execution_count": 30,
   "id": "c9a4d713-2e14-47a7-bf61-7544f1f37577",
   "metadata": {},
   "outputs": [
    {
     "data": {
      "text/plain": [
       "<Axes: xlabel='Count', ylabel='distribution_channel'>"
      ]
     },
     "execution_count": 30,
     "metadata": {},
     "output_type": "execute_result"
    },
    {
     "data": {
      "image/png": "[encoded data removed]",
      "text/plain": [
       "<Figure size 640x480 with 1 Axes>"
      ]
     },
     "metadata": {},
     "output_type": "display_data"
    }
   ],
   "source": [
    "handle_categorical_data(cat_, 'distribution_channel', orient='h')"
   ]
  },
  {
   "cell_type": "code",
   "execution_count": 31,
   "id": "c2a49290-c5c5-4a13-acb2-637965b76e8b",
   "metadata": {},
   "outputs": [
    {
     "data": {
      "text/plain": [
       "<Axes: xlabel='Count', ylabel='market_segment'>"
      ]
     },
     "execution_count": 31,
     "metadata": {},
     "output_type": "execute_result"
    },
    {
     "data": {
      "image/png": "[encoded data removed]",
      "text/plain": [
       "<Figure size 640x480 with 1 Axes>"
      ]
     },
     "metadata": {},
     "output_type": "display_data"
    }
   ],
   "source": [
    "handle_categorical_data(cat_, 'market_segment', orient='h')"
   ]
  },
  {
   "cell_type": "markdown",
   "id": "124714ce-557a-41ab-a3d3-e34c44d4ff2e",
   "metadata": {},
   "source": [
    "- This is a segmentation for guest (behavioural segmentation, which type booking did)"
   ]
  },
  {
   "cell_type": "code",
   "execution_count": 32,
   "id": "532746d8-1a6f-4a35-9857-554002f68a80",
   "metadata": {},
   "outputs": [
    {
     "data": {
      "text/plain": [
       "<Axes: xlabel='Count', ylabel='distribution_channel'>"
      ]
     },
     "execution_count": 32,
     "metadata": {},
     "output_type": "execute_result"
    },
    {
     "data": {
      "image/png": "[encoded data removed]",
      "text/plain": [
       "<Figure size 640x480 with 1 Axes>"
      ]
     },
     "metadata": {},
     "output_type": "display_data"
    }
   ],
   "source": [
    "handle_categorical_data(cat_, 'distribution_channel', orient='h')\n"
   ]
  },
  {
   "cell_type": "markdown",
   "id": "2e314b2d-748b-4988-bcd7-72842ad5c86c",
   "metadata": {},
   "source": [
    "- Most of client make reservation by an intermediare (traditional way agency/ online booking)"
   ]
  },
  {
   "cell_type": "code",
   "execution_count": 33,
   "id": "64f5dcc7-aa2a-46e9-88b5-e7282b5ace38",
   "metadata": {},
   "outputs": [
    {
     "data": {
      "text/plain": [
       "<Axes: xlabel='Count', ylabel='assigned_room_type'>"
      ]
     },
     "execution_count": 33,
     "metadata": {},
     "output_type": "execute_result"
    },
    {
     "data": {
      "image/png": "[encoded data removed]",
      "text/plain": [
       "<Figure size 640x480 with 1 Axes>"
      ]
     },
     "metadata": {},
     "output_type": "display_data"
    }
   ],
   "source": [
    "handle_categorical_data(cat_, 'assigned_room_type', orient='h')"
   ]
  },
  {
   "cell_type": "code",
   "execution_count": 34,
   "id": "3573d110-8a06-4da4-aa54-0927d36e9335",
   "metadata": {},
   "outputs": [
    {
     "data": {
      "text/plain": [
       "<Axes: xlabel='Count', ylabel='reserved_room_type'>"
      ]
     },
     "execution_count": 34,
     "metadata": {},
     "output_type": "execute_result"
    },
    {
     "data": {
      "image/png": "[encoded data removed]",
      "text/plain": [
       "<Figure size 640x480 with 1 Axes>"
      ]
     },
     "metadata": {},
     "output_type": "display_data"
    }
   ],
   "source": [
    "handle_categorical_data(cat_, 'reserved_room_type', orient='h')"
   ]
  },
  {
   "cell_type": "markdown",
   "id": "f0bb4df5-4b97-4f12-8459-9bad17227784",
   "metadata": {},
   "source": [
    "- most reserved room is type A && B\n",
    "- question are the guest satisfied when the hotels make a lot of changes (transfer)? may impact target variable ?"
   ]
  },
  {
   "cell_type": "code",
   "execution_count": 35,
   "id": "c91fb11b-d66c-4929-8f7a-8a7219c3246b",
   "metadata": {},
   "outputs": [
    {
     "data": {
      "text/plain": [
       "customer_type\n",
       "Transient          89613\n",
       "Transient-Party    25124\n",
       "Contract            4076\n",
       "Group                577\n",
       "Name: count, dtype: int64"
      ]
     },
     "execution_count": 35,
     "metadata": {},
     "output_type": "execute_result"
    }
   ],
   "source": [
    "data['customer_type'].value_counts()"
   ]
  },
  {
   "cell_type": "code",
   "execution_count": 36,
   "id": "cd79c0d5-b067-45e7-894a-a746e31932d4",
   "metadata": {},
   "outputs": [
    {
     "data": {
      "text/plain": [
       "<Axes: xlabel='customer_type', ylabel='Count'>"
      ]
     },
     "execution_count": 36,
     "metadata": {},
     "output_type": "execute_result"
    },
    {
     "data": {
      "image/png": "[encoded data removed]",
      "text/plain": [
       "<Figure size 640x480 with 1 Axes>"
      ]
     },
     "metadata": {},
     "output_type": "display_data"
    }
   ],
   "source": [
    "##Transient: These are individual guests who book hotel accommodations for short stays, typically for leisure \n",
    "##or business purposes. Transient guests do not have long-term contracts or commitments with the hotel\n",
    "handle_categorical_data(cat_, 'customer_type')"
   ]
  },
  {
   "cell_type": "code",
   "execution_count": 44,
   "id": "c19979a1-6a3a-4f78-aff7-08e358c550a7",
   "metadata": {},
   "outputs": [
    {
     "data": {
      "text/plain": [
       "<Axes: xlabel='reservation_status', ylabel='Count'>"
      ]
     },
     "execution_count": 44,
     "metadata": {},
     "output_type": "execute_result"
    },
    {
     "data": {
      "image/png": "[encoded data removed]",
      "text/plain": [
       "<Figure size 640x480 with 1 Axes>"
      ]
     },
     "metadata": {},
     "output_type": "display_data"
    }
   ],
   "source": [
    "handle_categorical_data(cat_, 'reservation_status')"
   ]
  },
  {
   "cell_type": "markdown",
   "id": "1b2a4d0f-6f27-43b4-a43d-e0104f56fb06",
   "metadata": {},
   "source": [
    "### 1.2 numerical_data"
   ]
  },
  {
   "cell_type": "code",
   "execution_count": 37,
   "id": "8c60b063-6aae-409b-8cd6-66df7b1604a3",
   "metadata": {},
   "outputs": [
    {
     "data": {
      "text/plain": [
       "Index(['is_canceled', 'lead_time', 'adults', 'children', 'babies',\n",
       "       'is_repeated_guest', 'days_in_waiting_list', 'stays_total'],\n",
       "      dtype='object')"
      ]
     },
     "execution_count": 37,
     "metadata": {},
     "output_type": "execute_result"
    }
   ],
   "source": [
    "num_.columns"
   ]
  },
  {
   "cell_type": "code",
   "execution_count": 38,
   "id": "a3b24fe5-eba2-4481-aaa9-4ddc71c5888b",
   "metadata": {},
   "outputs": [
    {
     "data": {
      "image/png": "[encoded data removed]",
      "text/plain": [
       "<Figure size 1000x600 with 1 Axes>"
      ]
     },
     "metadata": {},
     "output_type": "display_data"
    }
   ],
   "source": [
    "sns.set(style=\"whitegrid\") \n",
    "plt.figure(figsize=(10, 6))\n",
    "sns.histplot(data=num_, x='lead_time', kde=True, color='green',bins=15 ,linewidth=0)\n",
    "plt.title('Distribution and Density of Lead Time')\n",
    "plt.xlabel('Lead Time')\n",
    "plt.ylabel('Density')\n",
    "\n",
    "plt.show()\n",
    "##lead_time: duration between reservation && arrival"
   ]
  },
  {
   "cell_type": "code",
   "execution_count": 39,
   "id": "0d667d24-74ad-42c1-96dd-febdda249c0b",
   "metadata": {},
   "outputs": [
    {
     "data": {
      "image/png": "[encoded data removed]",
      "text/plain": [
       "<Figure size 1000x600 with 1 Axes>"
      ]
     },
     "metadata": {},
     "output_type": "display_data"
    }
   ],
   "source": [
    "sns.set(style=\"whitegrid\") \n",
    "plt.figure(figsize=(10, 6))\n",
    "sns.histplot(data=num_, x='stays_total', kde=True, color='green',bins=30 ,linewidth=0)\n",
    "plt.title('Distribution and Density of stays_total')\n",
    "plt.xlabel('stays_total')\n",
    "plt.ylabel('Density')\n",
    "\n",
    "plt.show()"
   ]
  },
  {
   "cell_type": "markdown",
   "id": "6b4d2d42-0160-4346-a4f6-1aa2e00ec08f",
   "metadata": {},
   "source": [
    "### 2. bivariate analysis"
   ]
  },
  {
   "cell_type": "code",
   "execution_count": 40,
   "id": "91001567-acf8-4d3e-9222-8886f230c9de",
   "metadata": {},
   "outputs": [
    {
     "data": {
      "text/plain": [
       "<seaborn.axisgrid.FacetGrid at 0x28becdcfc90>"
      ]
     },
     "execution_count": 40,
     "metadata": {},
     "output_type": "execute_result"
    },
    {
     "data": {
      "image/png": "[encoded data removed]",
      "text/plain": [
       "<Figure size 600x300 with 2 Axes>"
      ]
     },
     "metadata": {},
     "output_type": "display_data"
    }
   ],
   "source": [
    "\n",
    "facet_grid_histogram(cat_, 'is_canceled','distribution_channel', orient='h')"
   ]
  },
  {
   "cell_type": "code",
   "execution_count": 42,
   "id": "92d797f4-7d6f-4f9a-b274-fff0e566aa7c",
   "metadata": {},
   "outputs": [
    {
     "data": {
      "text/plain": [
       "<seaborn.axisgrid.FacetGrid at 0x28bf38f4590>"
      ]
     },
     "execution_count": 42,
     "metadata": {},
     "output_type": "execute_result"
    },
    {
     "data": {
      "image/png": "[encoded data removed]",
      "text/plain": [
       "<Figure size 600x300 with 2 Axes>"
      ]
     },
     "metadata": {},
     "output_type": "display_data"
    }
   ],
   "source": [
    "facet_grid_histogram(cat_, 'is_canceled','market_segment', orient='h')"
   ]
  },
  {
   "cell_type": "markdown",
   "id": "6bea4a50-85c1-47c1-af55-974f938f2d81",
   "metadata": {},
   "source": [
    "- most guest who cancel reservation come by an agency | online reservation"
   ]
  },
  {
   "cell_type": "code",
   "execution_count": 43,
   "id": "00cb6bc2-f438-477c-9c43-28d4508060ed",
   "metadata": {},
   "outputs": [
    {
     "data": {
      "text/plain": [
       "Index(['hotel', 'meal', 'country', 'market_segment', 'distribution_channel',\n",
       "       'previous_cancellations', 'previous_bookings_not_canceled',\n",
       "       'reserved_room_type', 'assigned_room_type', 'booking_changes',\n",
       "       'deposit_type', 'customer_type', 'adr', 'required_car_parking_spaces',\n",
       "       'total_of_special_requests', 'reservation_status', 'season',\n",
       "       'is_canceled'],\n",
       "      dtype='object')"
      ]
     },
     "execution_count": 43,
     "metadata": {},
     "output_type": "execute_result"
    }
   ],
   "source": [
    "cat_.columns"
   ]
  },
  {
   "cell_type": "code",
   "execution_count": 45,
   "id": "d29f378d-f635-4bc9-b77a-65662f8e30f4",
   "metadata": {},
   "outputs": [
    {
     "data": {
      "text/plain": [
       "<seaborn.axisgrid.FacetGrid at 0x28bed4a7c90>"
      ]
     },
     "execution_count": 45,
     "metadata": {},
     "output_type": "execute_result"
    },
    {
     "data": {
      "image/png": "[encoded data removed]",
      "text/plain": [
       "<Figure size 600x300 with 2 Axes>"
      ]
     },
     "metadata": {},
     "output_type": "display_data"
    }
   ],
   "source": [
    "facet_grid_histogram(cat_, 'is_canceled','customer_type', orient='h')"
   ]
  },
  {
   "cell_type": "code",
   "execution_count": 46,
   "id": "62855848-12e1-4068-9f77-aa233a64f10f",
   "metadata": {},
   "outputs": [
    {
     "data": {
      "text/plain": [
       "<seaborn.axisgrid.FacetGrid at 0x28bfd00c350>"
      ]
     },
     "execution_count": 46,
     "metadata": {},
     "output_type": "execute_result"
    },
    {
     "data": {
      "image/png": "[encoded data removed]",
      "text/plain": [
       "<Figure size 600x300 with 2 Axes>"
      ]
     },
     "metadata": {},
     "output_type": "display_data"
    }
   ],
   "source": [
    "facet_grid_histogram(cat_, 'is_canceled','hotel', orient='h')"
   ]
  },
  {
   "cell_type": "markdown",
   "id": "4ed1c879-df9d-46ec-87de-5ebae1237e00",
   "metadata": {},
   "source": [
    "- city hotel has hight cancel value "
   ]
  },
  {
   "cell_type": "code",
   "execution_count": 47,
   "id": "429d8c5a-6339-4723-8da4-6f290f3ccf8d",
   "metadata": {},
   "outputs": [
    {
     "data": {
      "text/plain": [
       "<seaborn.axisgrid.FacetGrid at 0x28bfd358e90>"
      ]
     },
     "execution_count": 47,
     "metadata": {},
     "output_type": "execute_result"
    },
    {
     "data": {
      "image/png": "[encoded data removed]",
      "text/plain": [
       "<Figure size 600x300 with 2 Axes>"
      ]
     },
     "metadata": {},
     "output_type": "display_data"
    }
   ],
   "source": [
    "\n",
    "facet_grid_histogram(cat_, 'is_canceled','assigned_room_type', orient='h')"
   ]
  },
  {
   "cell_type": "markdown",
   "id": "18ba06d6-4db1-4ff5-9a96-f979e3559bc9",
   "metadata": {},
   "source": [
    "- when hotel make room transfer for guest, for type A MOST of them cancel , rather then the guest who's transfered to type C"
   ]
  },
  {
   "cell_type": "code",
   "execution_count": 48,
   "id": "4942345a-06ca-4330-9e71-846c8b89aa80",
   "metadata": {},
   "outputs": [
    {
     "data": {
      "text/plain": [
       "Index(['is_canceled', 'lead_time', 'adults', 'children', 'babies',\n",
       "       'is_repeated_guest', 'days_in_waiting_list', 'stays_total'],\n",
       "      dtype='object')"
      ]
     },
     "execution_count": 48,
     "metadata": {},
     "output_type": "execute_result"
    }
   ],
   "source": [
    "num_.columns"
   ]
  },
  {
   "cell_type": "code",
   "execution_count": 51,
   "id": "1b6ba69c-c98d-436b-892d-9842a9f377ee",
   "metadata": {},
   "outputs": [
    {
     "data": {
      "text/plain": [
       "<seaborn.axisgrid.FacetGrid at 0x28bfd4919d0>"
      ]
     },
     "execution_count": 51,
     "metadata": {},
     "output_type": "execute_result"
    },
    {
     "data": {
      "image/png": "[encoded data removed]",
      "text/plain": [
       "<Figure size 600x300 with 2 Axes>"
      ]
     },
     "metadata": {},
     "output_type": "display_data"
    }
   ],
   "source": [
    "facet_grid_histogram(num_, 'is_canceled','is_repeated_guest', orient='h')"
   ]
  },
  {
   "cell_type": "markdown",
   "id": "4e011fc3-fa03-410d-9693-12e85e3e5463",
   "metadata": {},
   "source": [
    "- people who's make a cancel are new (only one time , they have not previous reservation)"
   ]
  },
  {
   "cell_type": "code",
   "execution_count": null,
   "id": "797cebd1-fd1d-4f42-808e-a7564be3a4b5",
   "metadata": {},
   "outputs": [],
   "source": [
    "['is_canceled', 'lead_time', 'adults', 'children', 'babies',\n",
    "       'is_repeated_guest', 'days_in_waiting_list', 'stays_total'],\n",
    "['hotel', 'meal', 'country', 'market_segment', 'distribution_channel',\n",
    "       'previous_cancellations', 'previous_bookings_not_canceled',\n",
    "       'reserved_room_type', 'assigned_room_type', 'booking_changes',\n",
    "       'deposit_type', 'customer_type', 'adr', 'required_car_parking_spaces',\n",
    "       'total_of_special_requests', 'reservation_status', 'season',\n",
    "       'is_canceled']"
   ]
  },
  {
   "cell_type": "code",
   "execution_count": 59,
   "id": "038251bb-d58b-4d96-8dff-2cb6a9743b71",
   "metadata": {},
   "outputs": [],
   "source": [
    "data.to_csv('new_data.csv', index=False)"
   ]
  }
 ],
 "metadata": {
  "kernelspec": {
   "display_name": "Python 3 (ipykernel)",
   "language": "python",
   "name": "python3"
  },
  "language_info": {
   "codemirror_mode": {
    "name": "ipython",
    "version": 3
   },
   "file_extension": ".py",
   "mimetype": "text/x-python",
   "name": "python",
   "nbconvert_exporter": "python",
   "pygments_lexer": "ipython3",
   "version": "3.11.7"
  }
 },
 "nbformat": 4,
 "nbformat_minor": 5
}
